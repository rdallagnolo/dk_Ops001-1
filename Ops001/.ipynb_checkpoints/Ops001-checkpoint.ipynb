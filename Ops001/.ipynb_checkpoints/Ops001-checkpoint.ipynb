{
 "cells": [
  {
   "cell_type": "code",
   "execution_count": 1,
   "id": "4cea0952-ff97-45c5-878b-2661fe8e46df",
   "metadata": {},
   "outputs": [],
   "source": [
    "import pandas as pd"
   ]
  },
  {
   "cell_type": "code",
   "execution_count": 4,
   "id": "ebbc3454-4173-4b1c-bd6a-80eade8ba6a8",
   "metadata": {},
   "outputs": [],
   "source": [
    "df = pd.read_csv(\"Ops001.csv\",parse_dates=[\"Date\"])"
   ]
  },
  {
   "cell_type": "code",
   "execution_count": 7,
   "id": "15b26d21-ee9d-4dd0-a1ba-6b41e9c50f82",
   "metadata": {},
   "outputs": [
    {
     "name": "stdout",
     "output_type": "stream",
     "text": [
      "<class 'pandas.core.frame.DataFrame'>\n",
      "RangeIndex: 20 entries, 0 to 19\n",
      "Data columns (total 15 columns):\n",
      " #   Column                              Non-Null Count  Dtype         \n",
      "---  ------                              --------------  -----         \n",
      " 0   Date                                20 non-null     datetime64[ns]\n",
      " 1   Branch Name                         20 non-null     object        \n",
      " 2   Staff Name                          20 non-null     object        \n",
      " 3   # Drops                             20 non-null     int64         \n",
      " 4   # Partials                          20 non-null     int64         \n",
      " 5   # Irregular Borrower                20 non-null     int64         \n",
      " 6   # Paid Off Yesterday                20 non-null     int64         \n",
      " 7   # Today Disbursed                   20 non-null     int64         \n",
      " 8   # Today Paid off                    20 non-null     int64         \n",
      " 9   # Virtual New Borrower (Disbursed)  20 non-null     int64         \n",
      " 10  # Returning Borrowers (Disbursed)   20 non-null     int64         \n",
      " 11  # CGT Trainings                     20 non-null     int64         \n",
      " 12  # Recognized New Members            20 non-null     int64         \n",
      " 13  # Recognized Return Members         20 non-null     int64         \n",
      " 14  $ Portfolio Outstanding             20 non-null     float64       \n",
      "dtypes: datetime64[ns](1), float64(1), int64(11), object(2)\n",
      "memory usage: 2.5+ KB\n"
     ]
    }
   ],
   "source": [
    "df.info()"
   ]
  },
  {
   "cell_type": "code",
   "execution_count": null,
   "id": "494ff60d-f2dc-4c45-8138-949595cb5977",
   "metadata": {},
   "outputs": [],
   "source": []
  }
 ],
 "metadata": {
  "kernelspec": {
   "display_name": "Python 3 (ipykernel)",
   "language": "python",
   "name": "python3"
  },
  "language_info": {
   "codemirror_mode": {
    "name": "ipython",
    "version": 3
   },
   "file_extension": ".py",
   "mimetype": "text/x-python",
   "name": "python",
   "nbconvert_exporter": "python",
   "pygments_lexer": "ipython3",
   "version": "3.9.7"
  }
 },
 "nbformat": 4,
 "nbformat_minor": 5
}
